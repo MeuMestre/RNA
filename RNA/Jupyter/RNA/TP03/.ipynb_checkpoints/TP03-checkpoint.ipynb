{
 "cells": [
  {
   "cell_type": "markdown",
   "metadata": {},
   "source": [
    "<img src=\"http://www3.ifmg.edu.br/site_campi/p/images/logos/Betim-Simples.png\" width=\"700\"></img>\n",
    "<b>Engenharia de Controle e Automação - Redes neurais artificiais</b> - Prof. Leandro Freitas\n",
    "\n",
    "### Lucas Pevidor Reis - 0024855 - TP2\n",
    "\n",
    "# 1  Objetivo\n",
    "\n",
    "Implementar uma rede neural para estimar o valor de uma função com dois valores de entrada.\n",
    "\n",
    "\n",
    "# 2 Regressão de uma função de duas variáveis\n",
    "\n",
    "## 2.1 Função  a ser estimada:\n",
    "\n",
    "A função a ser estimada é dada por $y = tan^{-1}(0,3x_1 + 0,7x_2)$. Inicialmente são gerados 20 valores de entrada de forma aleatória com distribuição uniforme entre -4 e 4, para $x_1$ e $x_2$;"
   ]
  },
  {
   "cell_type": "code",
   "execution_count": 5,
   "metadata": {},
   "outputs": [
    {
     "name": "stdout",
     "output_type": "stream",
     "text": [
      "[[ 1.67176829  2.31694933]\n",
      " [ 1.62379844  1.79425021]\n",
      " [ 3.4227447   1.67956321]\n",
      " [ 1.13172877  1.17955146]\n",
      " [ 1.52117168 -3.41904342]\n",
      " [ 1.98095968 -0.59285707]\n",
      " [ 1.70581476  0.19948422]\n",
      " [ 0.43357126 -2.68373946]\n",
      " [-2.95032495 -3.84162434]\n",
      " [ 1.02998406 -1.48175985]\n",
      " [-1.96828228 -2.77140689]\n",
      " [ 2.06871167  3.30139987]\n",
      " [-1.64670831  0.6694636 ]\n",
      " [-0.9091242  -3.48735624]\n",
      " [ 1.96860675  3.77535017]\n",
      " [ 3.37161377 -1.82114701]\n",
      " [ 3.27920256  1.95269466]\n",
      " [ 3.29615966 -2.56195474]\n",
      " [ 3.21654568  3.32238436]\n",
      " [ 3.37335169  3.81339975]]\n"
     ]
    }
   ],
   "source": [
    "import numpy as np\n",
    "\n",
    "x1 = np.transpose(np.array([np.random.uniform(-4,4,20)]))\n",
    "x2 = np.transpose(np.array([np.random.uniform(-4,4,20)]))\n",
    "x = np.append(x1, x2, axis=1)\n",
    "\n",
    "print (x)\n"
   ]
  },
  {
   "cell_type": "markdown",
   "metadata": {},
   "source": [
    "Devido à baixa quantidade de erros durante o processo de treinamento a rede tem um desempenho muito bom na identificação das Iris-Virginica. Para 100 redes treinadas mais da metade conseguiu uma taxa de acerto de 97%, com algumas alcançando quase 99%."
   ]
  }
 ],
 "metadata": {
  "kernelspec": {
   "display_name": "Python 3",
   "language": "python",
   "name": "python3"
  },
  "language_info": {
   "codemirror_mode": {
    "name": "ipython",
    "version": 3
   },
   "file_extension": ".py",
   "mimetype": "text/x-python",
   "name": "python",
   "nbconvert_exporter": "python",
   "pygments_lexer": "ipython3",
   "version": "3.6.5"
  }
 },
 "nbformat": 4,
 "nbformat_minor": 2
}
